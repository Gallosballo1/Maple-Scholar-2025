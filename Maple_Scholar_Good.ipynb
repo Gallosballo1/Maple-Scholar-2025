{
 "cells": [
  {
   "cell_type": "code",
   "execution_count": 18,
   "id": "17e9171f",
   "metadata": {},
   "outputs": [],
   "source": [
    "# Generate the data\n",
    "import random\n",
    "import numpy as np\n",
    "import pandas as pd\n",
    "import tensorflow as tf\n",
    "from tqdm.auto import trange\n",
    "from pathlib import Path\n",
    "import matplotlib.pyplot as plt       # histograms, QQ plots, etc.\n",
    "import pickle\n",
    "\n",
    "\n",
    "def generate_xy_equally_spaced(n=10000):\n",
    "    random.seed(42) \n",
    "\n",
    "    x = np.linspace(0, 1, n)\n",
    "    random.shuffle(x)  # shuffle the x values to ensure randomness\n",
    "    # y = np.exp(x)\n",
    "    y = x**2\n",
    "    return x, y\n"
   ]
  },
  {
   "cell_type": "code",
   "execution_count": 19,
   "id": "5eb8a10b",
   "metadata": {},
   "outputs": [],
   "source": [
    "# model (TensorFlow 2 / Keras)\n",
    "def make_model(seed=None):\n",
    "    if seed is not None:\n",
    "        tf.random.set_seed(seed)\n",
    "    \n",
    "\n",
    "    model = tf.keras.Sequential([\n",
    "        tf.keras.layers.Input(shape=(1,)),\n",
    "        tf.keras.layers.Dense(2, activation='sigmoid'),\n",
    "        tf.keras.layers.Dense(3, activation='sigmoid'),\n",
    "        tf.keras.layers.Dense(3, activation='sigmoid'),\n",
    "        tf.keras.layers.Dense(2, activation='sigmoid'),\n",
    "        tf.keras.layers.Dense(1, activation='linear')\n",
    "    ])\n",
    "    model.compile(optimizer='adam',\n",
    "                  loss='mse',\n",
    "                  metrics=[\"mae\"])\n",
    "    return model\n"
   ]
  },
  {
   "cell_type": "code",
   "execution_count": 22,
   "id": "38f5fd3f",
   "metadata": {},
   "outputs": [],
   "source": [
    "# Training\n",
    "def train_many(n_runs=1000, n_samples=10000, epochs=100, inverse=False):\n",
    "    weight_rows, bias_rows, error_all = [], [], []\n",
    "    \n",
    "    bar = trange(\n",
    "        n_runs,\n",
    "        desc=\"Inverse runs\" if inverse else \"Forward runs\",\n",
    "        unit=\"run\"\n",
    "    )\n",
    "    \n",
    "    for seed in bar:                    \n",
    "        tf.keras.backend.clear_session()\n",
    "\n",
    "        x, y = generate_xy_equally_spaced(n_samples)\n",
    "        if inverse:\n",
    "            x, y = y, x\n",
    "            \n",
    "    # for seed in trange(n_runs, desc=f\"{'Inverse' if inverse else 'Forward'} runs\"):\n",
    "    #     tf.keras.backend.clear_session()\n",
    "    #     x, y = generate_xy_equally_spaced(n_samples)\n",
    "    #     if inverse:\n",
    "    #         x, y = y, x\n",
    "\n",
    "        split = int(0.8 * n_samples)\n",
    "        x_train, x_test = x[:split], x[split:]\n",
    "        y_train, y_test = y[:split], y[split:]\n",
    "        \n",
    "# --- build the model ---\n",
    "        model = make_model(seed = seed)\n",
    "        # print(f\"Training model with seed {seed} on {n_samples} samples for {epochs} epochs\")\n",
    "        model.fit(x_train, y_train, epochs=epochs, verbose=0)\n",
    "\n",
    "# ----- collect weights & biases\n",
    "        w_vec, b_vec = [], []  # this line is inside the for-loop, so it is reset each run\n",
    "        for layer in model.layers:\n",
    "            W, b = layer.get_weights()\n",
    "            w_vec.extend(W.flatten())\n",
    "            b_vec.extend(b.flatten()) # ← only one value per loop\n",
    "\n",
    "        weight_rows.append(w_vec)\n",
    "        bias_rows.append(b_vec)\n",
    "        \n",
    "# ----- evaluate & store only the loss \n",
    "        # loss_value = float(model.evaluate(x_test, y_test, verbose=0))\n",
    "        # error_all.append(loss_value)\n",
    "        \n",
    "        test_metrics = model.evaluate(x_test, y_test, verbose=0)\n",
    "        loss_value   = test_metrics[0] if isinstance(test_metrics, (list, tuple, np.ndarray)) else test_metrics\n",
    "        error_all.append(float(loss_value))\n",
    "        \n",
    "        # put a quick status on the bar instead of printing\n",
    "        bar.set_postfix(seed=seed, mse=f\"{loss_value:.3e}\")\n",
    "        \n",
    "    return (\n",
    "        pd.DataFrame(weight_rows), \n",
    "        pd.DataFrame(bias_rows), \n",
    "        pd.Series(error_all, name=\"MSE\")\n",
    "    )\n"
   ]
  },
  {
   "cell_type": "code",
   "execution_count": 23,
   "id": "75defee3",
   "metadata": {},
   "outputs": [
    {
     "name": "stderr",
     "output_type": "stream",
     "text": [
      "Forward runs: 100%|██████████| 100/100 [1:23:19<00:00, 49.99s/run, mse=3.179e-05, seed=99]"
     ]
    },
    {
     "name": "stdout",
     "output_type": "stream",
     "text": [
      "[✓] Pickle files written in C:\\Users\\Stu_PP\\Downloads\\nn_distributions\n",
      "0    0.000031\n",
      "1    0.000032\n",
      "2    0.000033\n",
      "3    0.000033\n",
      "4    0.000031\n",
      "Name: MSE, dtype: float64\n"
     ]
    },
    {
     "name": "stderr",
     "output_type": "stream",
     "text": [
      "\n"
     ]
    }
   ],
   "source": [
    "# Run experiments & save\n",
    "OUT = Path(\"nn_distributions\"); OUT.mkdir(exist_ok=True)\n",
    "\n",
    "w_fwd, b_fwd, error_fwd = train_many(n_runs=100, inverse=False)\n",
    "#w_inv, b_inv = train_many(n_runs=10000, inverse=True)\n",
    "\n",
    "for name, df in [(\"weights_fwd\", w_fwd), \n",
    "                 (\"biases_fwd\", b_fwd), \n",
    "                 (\"errors_fwd\", error_fwd)]:\n",
    "                 #(\"weights_inv\", w_inv), \n",
    "                 #(\"biases_inv\", b_inv)\n",
    "                \n",
    "    with open(OUT / f\"{name}.pkl\", \"wb\") as f:\n",
    "        pickle.dump(df, f)\n",
    "\n",
    "print(\"[✓] Pickle files written in\", OUT.resolve())\n",
    "print(error_fwd[:5])            # see first 5 numbers\n",
    "\n"
   ]
  },
  {
   "cell_type": "code",
   "execution_count": 24,
   "id": "32e24b9d",
   "metadata": {},
   "outputs": [
    {
     "data": {
      "text/html": [
       "<div>\n",
       "<style scoped>\n",
       "    .dataframe tbody tr th:only-of-type {\n",
       "        vertical-align: middle;\n",
       "    }\n",
       "\n",
       "    .dataframe tbody tr th {\n",
       "        vertical-align: top;\n",
       "    }\n",
       "\n",
       "    .dataframe thead th {\n",
       "        text-align: right;\n",
       "    }\n",
       "</style>\n",
       "<table border=\"1\" class=\"dataframe\">\n",
       "  <thead>\n",
       "    <tr style=\"text-align: right;\">\n",
       "      <th></th>\n",
       "      <th>w0</th>\n",
       "      <th>w1</th>\n",
       "      <th>w2</th>\n",
       "      <th>w3</th>\n",
       "      <th>w4</th>\n",
       "      <th>w5</th>\n",
       "      <th>w6</th>\n",
       "      <th>w7</th>\n",
       "      <th>w8</th>\n",
       "      <th>w9</th>\n",
       "      <th>...</th>\n",
       "      <th>b2</th>\n",
       "      <th>b3</th>\n",
       "      <th>b4</th>\n",
       "      <th>b5</th>\n",
       "      <th>b6</th>\n",
       "      <th>b7</th>\n",
       "      <th>b8</th>\n",
       "      <th>b9</th>\n",
       "      <th>b10</th>\n",
       "      <th>error</th>\n",
       "    </tr>\n",
       "  </thead>\n",
       "  <tbody>\n",
       "    <tr>\n",
       "      <th>0</th>\n",
       "      <td>-2.462665</td>\n",
       "      <td>2.375923</td>\n",
       "      <td>-1.863519</td>\n",
       "      <td>-1.938985</td>\n",
       "      <td>2.274850</td>\n",
       "      <td>1.961483</td>\n",
       "      <td>1.883556</td>\n",
       "      <td>-1.267099</td>\n",
       "      <td>0.909105</td>\n",
       "      <td>-0.944004</td>\n",
       "      <td>...</td>\n",
       "      <td>-0.372867</td>\n",
       "      <td>-0.158606</td>\n",
       "      <td>-0.299322</td>\n",
       "      <td>0.133155</td>\n",
       "      <td>-0.088452</td>\n",
       "      <td>0.125706</td>\n",
       "      <td>-0.286930</td>\n",
       "      <td>0.370943</td>\n",
       "      <td>0.323009</td>\n",
       "      <td>0.000031</td>\n",
       "    </tr>\n",
       "    <tr>\n",
       "      <th>1</th>\n",
       "      <td>-2.436477</td>\n",
       "      <td>2.353000</td>\n",
       "      <td>-1.861736</td>\n",
       "      <td>-1.944551</td>\n",
       "      <td>2.314904</td>\n",
       "      <td>1.941360</td>\n",
       "      <td>1.871724</td>\n",
       "      <td>-1.261334</td>\n",
       "      <td>0.912653</td>\n",
       "      <td>-0.943283</td>\n",
       "      <td>...</td>\n",
       "      <td>-0.346716</td>\n",
       "      <td>-0.144413</td>\n",
       "      <td>-0.279428</td>\n",
       "      <td>0.137282</td>\n",
       "      <td>-0.088549</td>\n",
       "      <td>0.122350</td>\n",
       "      <td>-0.288749</td>\n",
       "      <td>0.373116</td>\n",
       "      <td>0.324142</td>\n",
       "      <td>0.000032</td>\n",
       "    </tr>\n",
       "    <tr>\n",
       "      <th>2</th>\n",
       "      <td>-2.429262</td>\n",
       "      <td>2.370882</td>\n",
       "      <td>-1.837044</td>\n",
       "      <td>-1.927007</td>\n",
       "      <td>2.339395</td>\n",
       "      <td>1.908180</td>\n",
       "      <td>1.847519</td>\n",
       "      <td>-1.239189</td>\n",
       "      <td>0.901010</td>\n",
       "      <td>-0.927791</td>\n",
       "      <td>...</td>\n",
       "      <td>-0.316624</td>\n",
       "      <td>-0.131774</td>\n",
       "      <td>-0.257518</td>\n",
       "      <td>0.148578</td>\n",
       "      <td>-0.091223</td>\n",
       "      <td>0.113089</td>\n",
       "      <td>-0.298148</td>\n",
       "      <td>0.381150</td>\n",
       "      <td>0.331487</td>\n",
       "      <td>0.000033</td>\n",
       "    </tr>\n",
       "    <tr>\n",
       "      <th>3</th>\n",
       "      <td>-2.447761</td>\n",
       "      <td>2.369424</td>\n",
       "      <td>-1.853885</td>\n",
       "      <td>-1.939007</td>\n",
       "      <td>2.304649</td>\n",
       "      <td>1.949799</td>\n",
       "      <td>1.876771</td>\n",
       "      <td>-1.267615</td>\n",
       "      <td>0.908422</td>\n",
       "      <td>-0.941820</td>\n",
       "      <td>...</td>\n",
       "      <td>-0.353914</td>\n",
       "      <td>-0.152294</td>\n",
       "      <td>-0.275308</td>\n",
       "      <td>0.137583</td>\n",
       "      <td>-0.087770</td>\n",
       "      <td>0.122743</td>\n",
       "      <td>-0.289609</td>\n",
       "      <td>0.372896</td>\n",
       "      <td>0.324705</td>\n",
       "      <td>0.000033</td>\n",
       "    </tr>\n",
       "    <tr>\n",
       "      <th>4</th>\n",
       "      <td>-2.427759</td>\n",
       "      <td>2.350411</td>\n",
       "      <td>-1.851270</td>\n",
       "      <td>-1.940127</td>\n",
       "      <td>2.314917</td>\n",
       "      <td>1.929819</td>\n",
       "      <td>1.863107</td>\n",
       "      <td>-1.252465</td>\n",
       "      <td>0.907660</td>\n",
       "      <td>-0.938352</td>\n",
       "      <td>...</td>\n",
       "      <td>-0.335652</td>\n",
       "      <td>-0.142808</td>\n",
       "      <td>-0.277176</td>\n",
       "      <td>0.140870</td>\n",
       "      <td>-0.088985</td>\n",
       "      <td>0.120436</td>\n",
       "      <td>-0.292523</td>\n",
       "      <td>0.377421</td>\n",
       "      <td>0.328031</td>\n",
       "      <td>0.000031</td>\n",
       "    </tr>\n",
       "  </tbody>\n",
       "</table>\n",
       "<p>5 rows × 37 columns</p>\n",
       "</div>"
      ],
      "text/plain": [
       "         w0        w1        w2        w3        w4        w5        w6  \\\n",
       "0 -2.462665  2.375923 -1.863519 -1.938985  2.274850  1.961483  1.883556   \n",
       "1 -2.436477  2.353000 -1.861736 -1.944551  2.314904  1.941360  1.871724   \n",
       "2 -2.429262  2.370882 -1.837044 -1.927007  2.339395  1.908180  1.847519   \n",
       "3 -2.447761  2.369424 -1.853885 -1.939007  2.304649  1.949799  1.876771   \n",
       "4 -2.427759  2.350411 -1.851270 -1.940127  2.314917  1.929819  1.863107   \n",
       "\n",
       "         w7        w8        w9  ...        b2        b3        b4        b5  \\\n",
       "0 -1.267099  0.909105 -0.944004  ... -0.372867 -0.158606 -0.299322  0.133155   \n",
       "1 -1.261334  0.912653 -0.943283  ... -0.346716 -0.144413 -0.279428  0.137282   \n",
       "2 -1.239189  0.901010 -0.927791  ... -0.316624 -0.131774 -0.257518  0.148578   \n",
       "3 -1.267615  0.908422 -0.941820  ... -0.353914 -0.152294 -0.275308  0.137583   \n",
       "4 -1.252465  0.907660 -0.938352  ... -0.335652 -0.142808 -0.277176  0.140870   \n",
       "\n",
       "         b6        b7        b8        b9       b10     error  \n",
       "0 -0.088452  0.125706 -0.286930  0.370943  0.323009  0.000031  \n",
       "1 -0.088549  0.122350 -0.288749  0.373116  0.324142  0.000032  \n",
       "2 -0.091223  0.113089 -0.298148  0.381150  0.331487  0.000033  \n",
       "3 -0.087770  0.122743 -0.289609  0.372896  0.324705  0.000033  \n",
       "4 -0.088985  0.120436 -0.292523  0.377421  0.328031  0.000031  \n",
       "\n",
       "[5 rows x 37 columns]"
      ]
     },
     "execution_count": 24,
     "metadata": {},
     "output_type": "execute_result"
    }
   ],
   "source": [
    "# Load the pickle files\n",
    "weights_df = pickle.load(open(OUT / \"weights_fwd.pkl\", \"rb\"))\n",
    "biases_df  = pickle.load(open(OUT / \"biases_fwd.pkl\", \"rb\"))\n",
    "error_df = pickle.load(open(OUT / \"errors_fwd.pkl\", \"rb\"))   # <- this is a Series\n",
    "\n",
    "# Rename columns\n",
    "weights_df.columns = [f\"w{i}\" for i in range(weights_df.shape[1])]\n",
    "biases_df.columns  = [f\"b{i}\" for i in range(biases_df.shape[1])]\n",
    "\n",
    "# Combine everything horizontally\n",
    "combined_df = pd.concat([weights_df,\n",
    "                         biases_df,\n",
    "                         error_df.rename(\"error\")],  # single MSE column\n",
    "                        axis=1)\n",
    "\n",
    "# print(combined_df.head()) \n",
    "combined_df.head()"
   ]
  },
  {
   "cell_type": "code",
   "execution_count": 25,
   "id": "1d8cea65",
   "metadata": {},
   "outputs": [
    {
     "data": {
      "text/plain": [
       "<Axes: title={'center': 'w0'}, ylabel='Frequency'>"
      ]
     },
     "execution_count": 25,
     "metadata": {},
     "output_type": "execute_result"
    },
    {
     "data": {
      "image/png": "[encoded data removed]",
      "text/plain": [
       "<Figure size 640x480 with 1 Axes>"
      ]
     },
     "metadata": {},
     "output_type": "display_data"
    }
   ],
   "source": [
    "weights_df['w0'].plot.hist(bins=50, title='w0', edgecolor='red')"
   ]
  },
  {
   "cell_type": "code",
   "execution_count": 26,
   "id": "561d1177",
   "metadata": {},
   "outputs": [
    {
     "data": {
      "text/plain": [
       "<Axes: title={'center': 'b0'}, ylabel='Frequency'>"
      ]
     },
     "execution_count": 26,
     "metadata": {},
     "output_type": "execute_result"
    },
    {
     "data": {
      "image/png": "[encoded data removed]",
      "text/plain": [
       "<Figure size 640x480 with 1 Axes>"
      ]
     },
     "metadata": {},
     "output_type": "display_data"
    }
   ],
   "source": [
    "biases_df['b0'].plot.hist(bins=50, title='b0', edgecolor='red')"
   ]
  },
  {
   "cell_type": "code",
   "execution_count": 28,
   "id": "0226e783",
   "metadata": {},
   "outputs": [
    {
     "data": {
      "image/png": "[encoded data removed]",
      "text/plain": [
       "<Figure size 640x480 with 1 Axes>"
      ]
     },
     "metadata": {},
     "output_type": "display_data"
    },
    {
     "data": {
      "image/png": "[encoded data removed]",
      "text/plain": [
       "<Figure size 640x480 with 1 Axes>"
      ]
     },
     "metadata": {},
     "output_type": "display_data"
    }
   ],
   "source": [
    "from scipy.stats import gaussian_kde\n",
    "\n",
    "# Load your error-series\n",
    "# OUT = Path(\"nn_distributions\")\n",
    "err_path = OUT / \"errors_fwd.pkl\"\n",
    "mse_list = pickle.load(open(err_path, \"rb\"))\n",
    "mse = np.array([float(np.squeeze(v)) for v in mse_list])\n",
    "\n",
    "# Plot histogram (with log-scaled y-axis)\n",
    "plt.figure()\n",
    "counts, bins, patches = plt.hist(\n",
    "    mse,\n",
    "    bins=50,\n",
    "    edgecolor='black',\n",
    "    density=False\n",
    ")\n",
    "plt.yscale(\"log\")\n",
    "plt.xlabel(\"MSE on unseen test data\")\n",
    "plt.ylabel(\"Number of runs\")\n",
    "plt.title(\"Distribution of test MSE across runs\")\n",
    "plt.tight_layout()\n",
    "plt.show()\n",
    "\n",
    "# Overlay a KDE using SciPy if you have it:\n",
    "try:\n",
    "    from scipy.stats import gaussian_kde\n",
    "\n",
    "    kde = gaussian_kde(mse, bw_method=0.5)\n",
    "    x_vals = np.linspace(mse.min(), mse.max(), 500)\n",
    "    # scale the KDE so its area matches the histogram\n",
    "    scale = len(mse) * (bins[1] - bins[0])\n",
    "    plt.figure()\n",
    "    plt.plot(x_vals, kde(x_vals) * scale)\n",
    "    plt.xlabel(\"MSE\")\n",
    "    plt.ylabel(\"Estimated run count\")\n",
    "    plt.title(\"KDE of test-set MSE\")\n",
    "    plt.tight_layout()\n",
    "    plt.show()\n",
    "except ImportError:\n",
    "    print(\"SciPy not installed; skipping KDE overlay.\")"
   ]
  },
  {
   "cell_type": "code",
   "execution_count": 11,
   "id": "ef82c69e",
   "metadata": {},
   "outputs": [
    {
     "ename": "ModuleNotFoundError",
     "evalue": "No module named 'seaborn'",
     "output_type": "error",
     "traceback": [
      "\u001b[31m---------------------------------------------------------------------------\u001b[39m",
      "\u001b[31mModuleNotFoundError\u001b[39m                       Traceback (most recent call last)",
      "\u001b[36mCell\u001b[39m\u001b[36m \u001b[39m\u001b[32mIn[11]\u001b[39m\u001b[32m, line 1\u001b[39m\n\u001b[32m----> \u001b[39m\u001b[32m1\u001b[39m \u001b[38;5;28;01mimport\u001b[39;00m\u001b[38;5;250m \u001b[39m\u001b[34;01mseaborn\u001b[39;00m\u001b[38;5;250m \u001b[39m\u001b[38;5;28;01mas\u001b[39;00m\u001b[38;5;250m \u001b[39m\u001b[34;01msns\u001b[39;00m\n\u001b[32m      3\u001b[39m \u001b[38;5;66;03m# Load the test-losses (MSE)\u001b[39;00m\n\u001b[32m      4\u001b[39m err_path = OUT / \u001b[33m\"\u001b[39m\u001b[33merrors_fwd.pkl\u001b[39m\u001b[33m\"\u001b[39m\n",
      "\u001b[31mModuleNotFoundError\u001b[39m: No module named 'seaborn'"
     ]
    }
   ],
   "source": [
    "import seaborn as sns\n",
    "\n",
    "# Load the test-losses (MSE)\n",
    "err_path = OUT / \"errors_fwd.pkl\"\n",
    "err_object = pickle.load(open(err_path, \"rb\"))\n",
    "\n",
    "mse = pd.Series(err_object).apply(\n",
    "    lambda v: float(np.squeeze(v))     # flatten & cast\n",
    ").to_numpy()                           # → simple NumPy array\n",
    "\n",
    "print(\"Test-set MSE across runs:\")\n",
    "print(pd.Series(mse).describe().to_string(float_format=\"%.6g\"))\n",
    "\n",
    "\n",
    "plt.figure()\n",
    "plt.hist(\n",
    "    mse,\n",
    "    bins=50,\n",
    "    edgecolor='black'\n",
    ")\n",
    "plt.yscale(\"log\")\n",
    "plt.xlabel(\"MSE on unseen test data\")\n",
    "plt.ylabel(\"Number of runs\")\n",
    "plt.title(\"Distribution of test MSE across 10 runs\")   # adjust “10” if you run more\n",
    "plt.tight_layout()\n",
    "plt.show()\n",
    "\n",
    "# save the figure alongside your pickles\n",
    "# plt.savefig(OUT / \"mse_histogram.png\", dpi=300)\n",
    "sns.kdeplot(mse, bw_adjust=0.5)\n"
   ]
  },
  {
   "cell_type": "code",
   "execution_count": null,
   "id": "f27897fc",
   "metadata": {},
   "outputs": [],
   "source": [
    "test_points = np.array([\n",
    "    [np.pi/2],         # f(π/2)\n",
    "    [np.sqrt(2)/2],    # f(√2 / 2)\n",
    "])\n",
    "preds = model.predict(test_points)\n",
    "for x_val, y_hat in zip(test_points.flatten(), preds.flatten()):\n",
    "    print(f\"f({x_val:.4f}) ≈ {y_hat:.6f}\")"
   ]
  },
  {
   "cell_type": "code",
   "execution_count": null,
   "id": "75f4290f",
   "metadata": {},
   "outputs": [],
   "source": [
    "xs = np.linspace(0, 2*np.pi, 100)[:,None]\n",
    "ys = model.predict(xs)"
   ]
  },
  {
   "cell_type": "markdown",
   "id": "c67efd67",
   "metadata": {},
   "source": [
    "# Headinig\n",
    "\n",
    ">this is my code\n",
    "\n",
    "\n",
    "$RMSE = \\sum (y-\\hat{y})^2$"
   ]
  },
  {
   "cell_type": "markdown",
   "id": "e675f00a",
   "metadata": {},
   "source": []
  }
 ],
 "metadata": {
  "kernelspec": {
   "display_name": "Python 3",
   "language": "python",
   "name": "python3"
  },
  "language_info": {
   "codemirror_mode": {
    "name": "ipython",
    "version": 3
   },
   "file_extension": ".py",
   "mimetype": "text/x-python",
   "name": "python",
   "nbconvert_exporter": "python",
   "pygments_lexer": "ipython3",
   "version": "3.12.3"
  }
 },
 "nbformat": 4,
 "nbformat_minor": 5
}
